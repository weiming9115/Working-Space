{
 "cells": [
  {
   "cell_type": "code",
   "execution_count": 3,
   "metadata": {},
   "outputs": [],
   "source": [
    "import os\n",
    "import cdsapi"
   ]
  },
  {
   "cell_type": "code",
   "execution_count": 5,
   "metadata": {},
   "outputs": [
    {
     "name": "stderr",
     "output_type": "stream",
     "text": [
      "2019-10-21 15:48:58,308 INFO Sending request to https://cds.climate.copernicus.eu/api/v2/resources/reanalysis-era5-pressure-levels\n",
      "2019-10-21 15:48:58,977 INFO Request is completed\n",
      "2019-10-21 15:48:58,978 INFO Downloading http://136.156.133.46/cache-compute-0015/cache/data4/adaptor.mars.internal-1571686672.7701406-8197-25-b69d66e6-52b2-4f04-81a2-1923d3797b73.nc to ERA5_06TQUV.nc (5G)\n",
      "2019-10-21 15:59:36,571 INFO Download rate 8.1M/s     \n"
     ]
    }
   ],
   "source": [
    "c = cdsapi.Client()\n",
    "data = c.retrieve(\n",
    "    'reanalysis-era5-pressure-levels',\n",
    "    {\n",
    "        'product_type':'reanalysis',\n",
    "        'variable':[\n",
    "            'specific_humidity','temperature','u_component_of_wind',\n",
    "            'v_component_of_wind'\n",
    "        ],\n",
    "        'pressure_level':[\n",
    "            '10','20','30',\n",
    "            '50','70','100',\n",
    "            '125','150','175',\n",
    "            '200','225','250',\n",
    "            '300','350','400',\n",
    "            '450','500','550',\n",
    "            '600','650','700',\n",
    "            '750','800','850',\n",
    "            '900','950','1000'\n",
    "        ],\n",
    "        'year':'2014',\n",
    "        'month':'06',\n",
    "        'day':[\n",
    "            '01','02','03'\n",
    "#            '04','05','06',\n",
    "#            '07','08','09',\n",
    "#            '10','11','12',\n",
    "#            '13','14','15',\n",
    "#            '16','17','18',\n",
    "#            '19','20','21',\n",
    "#            '22','23','24',\n",
    "#            '25','26','27',\n",
    "#            '28','29','30'\n",
    "        ],\n",
    "        'time':[\n",
    "            '00:00','03:00','06:00',\n",
    "            '09:00','12:00','15:00',\n",
    "            '18:00','21:00'\n",
    "        ],\n",
    "        'format':'netcdf'\n",
    "        },\n",
    "        \"ERA5_06TQUV.nc\")"
   ]
  },
  {
   "cell_type": "code",
   "execution_count": null,
   "metadata": {},
   "outputs": [],
   "source": []
  },
  {
   "cell_type": "code",
   "execution_count": null,
   "metadata": {},
   "outputs": [],
   "source": []
  }
 ],
 "metadata": {
  "kernelspec": {
   "display_name": "Python 3",
   "language": "python",
   "name": "python3"
  },
  "language_info": {
   "codemirror_mode": {
    "name": "ipython",
    "version": 3
   },
   "file_extension": ".py",
   "mimetype": "text/x-python",
   "name": "python",
   "nbconvert_exporter": "python",
   "pygments_lexer": "ipython3",
   "version": "3.6.6"
  }
 },
 "nbformat": 4,
 "nbformat_minor": 2
}
