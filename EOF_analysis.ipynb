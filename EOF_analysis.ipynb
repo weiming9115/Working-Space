{
 "cells": [
  {
   "cell_type": "markdown",
   "metadata": {
    "slideshow": {
     "slide_type": "slide"
    }
   },
   "source": [
    "<img src=\"https://cdn.miami.edu/_assets-common/images/system/um-logo-gray-bg.png\" alt=\"Miami Logo\">\n",
    "\n",
    "# Atmospheric Data Analysis: EOF Analysis by Python \n",
    "###  Author: Wei-Ming Tsai \n",
    "### Modified Date: 06/29/18\n",
    "---\n",
    "### Introduction\n",
    "Emperical orthogonal function (EOF) is a powerful analysis method for exploring spatial structure of varainace in data, and decomposed \"modes/EOFs\" are physically meanful which might correspond to natural forcings in different time scales. Therefore, this notebook is trying to conduct the EOF analysis by a useful function \"eofs\", so we can understand more about it step by step."
   ]
  },
  {
   "cell_type": "code",
   "execution_count": 1,
   "metadata": {
    "slideshow": {
     "slide_type": "slide"
    }
   },
   "outputs": [
    {
     "data": {
      "text/plain": [
       "'/Users/willytsai/Working-Space'"
      ]
     },
     "execution_count": 1,
     "metadata": {},
     "output_type": "execute_result"
    }
   ],
   "source": [
    "import os\n",
    "import numpy as np\n",
    "import matplotlib.pyplot as plt\n",
    "import xarray as xr # for netcdf file\n",
    "from datetime import datetime\n",
    "\n",
    "os.chdir('/Users/willytsai/Working-Space/')\n",
    "os.getcwd()"
   ]
  },
  {
   "cell_type": "code",
   "execution_count": 2,
   "metadata": {
    "slideshow": {
     "slide_type": "slide"
    }
   },
   "outputs": [],
   "source": [
    "# Read input data\n",
    "os.chdir('/Users/willytsai/MPO624_data/data/')\n",
    "#dataset=xr.open_dataset('precip.mon.mean.2008_2017.45NS.nc')\n",
    "dataset=xr.open_dataset('sst.mnmean.nc')\n",
    "ds=dataset.sel(time=datetime(2016,7,1),lon=slice(0,360),lat=slice(45,-45)).sst"
   ]
  },
  {
   "cell_type": "code",
   "execution_count": 4,
   "metadata": {
    "scrolled": true,
    "slideshow": {
     "slide_type": "slide"
    }
   },
   "outputs": [
    {
     "ename": "ModuleNotFoundError",
     "evalue": "No module named 'cartopy'",
     "output_type": "error",
     "traceback": [
      "\u001b[0;31m---------------------------------------------------------------------------\u001b[0m",
      "\u001b[0;31mModuleNotFoundError\u001b[0m                       Traceback (most recent call last)",
      "\u001b[0;32m<ipython-input-4-b70a4232f61f>\u001b[0m in \u001b[0;36m<module>\u001b[0;34m\u001b[0m\n\u001b[0;32m----> 1\u001b[0;31m \u001b[0;32mimport\u001b[0m \u001b[0mcartopy\u001b[0m\u001b[0;34m.\u001b[0m\u001b[0mcrs\u001b[0m \u001b[0;32mas\u001b[0m \u001b[0mccrs\u001b[0m\u001b[0;34m\u001b[0m\u001b[0;34m\u001b[0m\u001b[0m\n\u001b[0m\u001b[1;32m      2\u001b[0m \u001b[0;32mimport\u001b[0m \u001b[0mcartopy\u001b[0m\u001b[0;34m.\u001b[0m\u001b[0mfeature\u001b[0m \u001b[0;32mas\u001b[0m \u001b[0mcfeat\u001b[0m\u001b[0;34m\u001b[0m\u001b[0;34m\u001b[0m\u001b[0m\n\u001b[1;32m      3\u001b[0m \u001b[0;34m\u001b[0m\u001b[0m\n\u001b[1;32m      4\u001b[0m \u001b[0mfig\u001b[0m \u001b[0;34m=\u001b[0m \u001b[0mplt\u001b[0m\u001b[0;34m.\u001b[0m\u001b[0mfigure\u001b[0m\u001b[0;34m(\u001b[0m\u001b[0mfigsize\u001b[0m\u001b[0;34m=\u001b[0m\u001b[0;34m(\u001b[0m\u001b[0;36m14\u001b[0m\u001b[0;34m,\u001b[0m\u001b[0;36m8\u001b[0m\u001b[0;34m)\u001b[0m\u001b[0;34m)\u001b[0m\u001b[0;34m\u001b[0m\u001b[0;34m\u001b[0m\u001b[0m\n\u001b[1;32m      5\u001b[0m \u001b[0;34m\u001b[0m\u001b[0m\n",
      "\u001b[0;31mModuleNotFoundError\u001b[0m: No module named 'cartopy'"
     ]
    }
   ],
   "source": [
    "import cartopy.crs as ccrs\n",
    "import cartopy.feature as cfeat\n",
    "\n",
    "fig = plt.figure(figsize=(14,8))\n",
    "\n",
    "ax = plt.axes(projection=ccrs.PlateCarree(central_longitude=180))\n",
    "pcp=xr.plot.contourf(ds,transform=ccrs.PlateCarree(),cmap='jet',robust='true',add_colorbar=False)\n",
    "ax.coastlines()\n",
    "ax.add_feature(cfeat.LAND,zorder=1,edgecolor='k',facecolor='w') # maskout LAND\n",
    "cbar.set_label('[K]',fontsize=12)\n",
    "cbar=plt.colorbar(pcp,fraction=0.012, pad=0.025);\n",
    "plt.title('NOAA OISST_V2, 45S-45N, July 1,2016',fontsize=14)\n",
    "plt.xlabel('Logitude',fontsize=12);plt.ylabel('Latitude',fontsize=12)\n",
    "plt.xticks(np.linspace(-180,180,13),['0','30E','60E','90E','120E','150E','180','150W','120W','90w'\n",
    "                                    ,'60W','30W'])\n",
    "plt.yticks(np.linspace(-45,45,7),['45S','30S','15S','EQ','15N','30N','45N'])\n",
    "                                    \n",
    "plt.show()"
   ]
  },
  {
   "cell_type": "markdown",
   "metadata": {
    "slideshow": {
     "slide_type": "slide"
    }
   },
   "source": [
    "### (I) select a region and construct the covariance matrix of SST and EOFs\n",
    "Now we choose \"Eastern Pacific\", known for ENSO activities, as our EOF example to see the phyiscal and meaningful structure of EOF components"
   ]
  },
  {
   "cell_type": "code",
   "execution_count": null,
   "metadata": {
    "slideshow": {
     "slide_type": "slide"
    }
   },
   "outputs": [],
   "source": [
    "import scipy.signal\n",
    "\n",
    "ds=dataset.sel(lon=slice(120,300),lat=slice(20,-20)).sst\n",
    "lons=dataset.sel(lon=slice(120,300),lat=slice(20,-20)).lon.values;\n",
    "lats=dataset.sel(lon=slice(120,300),lat=slice(20,-20)).lat.values;\n",
    "sstmn=ds.values[1:433,:,:]; # extract precipitaiton data, lat=15S-15N, lon=120W-80W, 36yrs\n",
    "\n",
    "# detrend, an important step!! or your EOF1 will be dominated by linear trend\n",
    "sstmn=scipy.signal.detrend(sstmn[:,:,:],1); \n",
    "ssta=sstmn-sstmn.mean(0); # SST anomaly\n",
    "\n",
    "# remove seasonality\n",
    "season=np.zeros((12,np.shape(ssta)[1],np.shape(ssta)[2]));\n",
    "for t in range(12):\n",
    "    idx=np.int32(np.linspace(t,t+35*12,36))\n",
    "    season[t,:,:]=ssta[idx,:,:].mean(0);\n",
    "\n",
    "for t in range(432):\n",
    "    mon=np.mod(t,12);\n",
    "    ssta[t,:,:]=ssta[t,:,:]-season[mon,:,:];"
   ]
  },
  {
   "cell_type": "code",
   "execution_count": null,
   "metadata": {
    "slideshow": {
     "slide_type": "slide"
    }
   },
   "outputs": [],
   "source": [
    "# Apply EOF to data anomaly [time, lat, lon] by eofs packages\n",
    "from eofs.standard import Eof\n",
    "solver=Eof(ssta)\n",
    "eof=solver.eofs(neofs=3); # EOF, spatial structure of SSTA\n",
    "pc=solver.pcs(npcs=3); # Principle components (PC), a timeseris of amplitude\n",
    "fra=solver.varianceFraction(neigs=3)*100; # explained variance\n",
    "print 'First 3 EOF:', fra[0:3]\n",
    "print np.shape(eof)"
   ]
  },
  {
   "cell_type": "code",
   "execution_count": null,
   "metadata": {
    "slideshow": {
     "slide_type": "slide"
    }
   },
   "outputs": [],
   "source": [
    "# plot figures \n",
    "eofn=2; # select the number of EOFs display\n",
    "\n",
    "## EOF Display\n",
    "for n in range(eofn):\n",
    "    fig=plt.figure(figsize=(15,4))\n",
    "    ax=fig.add_subplot(eofn,2,2*n+1,projection=ccrs.PlateCarree(central_longitude=210))\n",
    "    fill = ax.contourf(lons,lats,eof[n].squeeze()*pc[10,n], transform=ccrs.PlateCarree(), cmap=plt.cm.RdBu_r)\n",
    "    ax.coastlines()\n",
    "    ax.add_feature(cfeat.LAND,zorder=1,facecolor='w',edgecolor='k')\n",
    "    cb = plt.colorbar(fill,fraction=0.015)\n",
    "    cb.set_label('SST Anomaly [K]', fontsize=12)\n",
    "    plt.title('NOAA OISST_V2, EOF1, '+str(np.round(fra[n],decimals=2))+'%', fontsize=14)\n",
    "    plt.xticks(np.linspace(-90,90,7),['120E','150E','180','150W','120W','90W','60W'])\n",
    "    plt.yticks(np.linspace(-20,20,5),['20S','10S','EQ','10N','20N'])\n",
    "    if n==0:\n",
    "        plt.suptitle('EOF decompostion',fontsize=18)\n",
    "    \n",
    "    ax2=fig.add_subplot(eofn,2,2*n+2)\n",
    "    plt.plot(pc[:,n])\n",
    "    plt.xlim([0,np.size(ssta,0)])\n",
    "    plt.xticks(np.linspace(0,420,8),np.int32(np.linspace(1982,2017,8)))\n",
    "    plt.ylabel('Amplitude',fontsize=12);plt.title('PC'+str(n+1),fontsize=14)\n",
    "    plt.tight_layout()\n",
    "\n",
    "plt.show()"
   ]
  },
  {
   "cell_type": "markdown",
   "metadata": {
    "slideshow": {
     "slide_type": "slide"
    }
   },
   "source": [
    "### (II) Reconstruction of original data from EOFs \n",
    "To varify that our decomposed EOFs are correct, now we are going to reconstruct the \"original\" data from each EOF components. If the linear combination of all components is able to restore the input \"ssta\", our EOF analysis is accurate and successful!"
   ]
  },
  {
   "cell_type": "code",
   "execution_count": null,
   "metadata": {
    "slideshow": {
     "slide_type": "slide"
    }
   },
   "outputs": [],
   "source": [
    "eofall=solver.eofs(); # EOF, spatial structure of SSTA\n",
    "pcall=solver.pcs(); # Principle components (PC), a timeseris of amplitude\n",
    "\n",
    "eofall=np.reshape(eofall,((np.shape(eofall)[0],np.shape(eofall)[1]*np.shape(eofall)[2])))\n",
    "pct1=pcall[0,:];\n",
    "\n",
    "## SSTA = PC x Eigenvector \n",
    "eofsum=np.matmul(pct1,eofall) # reconstructed SST anomaly at t=1\n",
    "\n",
    "plt.figure(figsize=(16,4))\n",
    "plt.subplot(1,2,1)\n",
    "plt.contourf(lons,lats,eofsum.reshape(40,180))\n",
    "plt.colorbar()\n",
    "plt.title('Reconstructed SST anomaly by all EOFs, t=1',fontsize=13)\n",
    "\n",
    "plt.subplot(1,2,2)\n",
    "plt.contourf(lons,lats,ssta[0,:,:]) # SST anomaly at t=1\n",
    "plt.colorbar()\n",
    "plt.title('Original SST anomaly, t=1',fontsize=13)\n",
    "\n",
    "plt.tight_layout()\n",
    "plt.show()"
   ]
  },
  {
   "cell_type": "markdown",
   "metadata": {
    "slideshow": {
     "slide_type": "slide"
    }
   },
   "source": [
    "### Now we see that the reconstructed SSTA is identical to the original SSTA !"
   ]
  }
 ],
 "metadata": {
  "celltoolbar": "Slideshow",
  "kernelspec": {
   "display_name": "Python 3",
   "language": "python",
   "name": "python3"
  },
  "language_info": {
   "codemirror_mode": {
    "name": "ipython",
    "version": 3
   },
   "file_extension": ".py",
   "mimetype": "text/x-python",
   "name": "python",
   "nbconvert_exporter": "python",
   "pygments_lexer": "ipython3",
   "version": "3.7.1"
  }
 },
 "nbformat": 4,
 "nbformat_minor": 2
}
