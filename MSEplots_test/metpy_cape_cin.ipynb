{
 "cells": [
  {
   "cell_type": "markdown",
   "metadata": {},
   "source": [
    "### Sensitivity test for metpy cape_cin with wacky data"
   ]
  },
  {
   "cell_type": "code",
   "execution_count": 2,
   "metadata": {},
   "outputs": [],
   "source": [
    "import os\n",
    "import numpy as np\n",
    "import metpy.calc as mpcalc\n",
    "import \n",
    "from metpy.units import units\n",
    "import matplotlib.pyplot as plt"
   ]
  },
  {
   "cell_type": "code",
   "execution_count": 3,
   "metadata": {},
   "outputs": [],
   "source": [
    "os.chdir('/Users/willytsai/Desktop/IOP4/')"
   ]
  },
  {
   "cell_type": "code",
   "execution_count": null,
   "metadata": {},
   "outputs": [],
   "source": [
    "#Leer q\n",
    "qcd = scipy.io.loadmat('qall.mat')\n",
    "qcd1=qcd['qall'][5:6000,1]\n",
    "qcd2=qcd1/1000*units('kilogram/kilogram')\n",
    "\n",
    "#Leer p\n",
    "tcd = scipy.io.loadmat('pall.mat')\n",
    "pp=tcd['pall'][5:6000,1]*units('mbar')\n",
    "\n",
    "#Leer t\n",
    "tcd = scipy.io.loadmat('tall.mat')\n",
    "tcd1=tcd['tall'][5:6000,1]\n",
    "\n",
    "#Leer z\n",
    "zcd = scipy.io.loadmat('zall.mat')\n",
    "zcd1=zcd['zall'][5:6000,1]\n",
    "\n",
    "#Hacer el grafico\n",
    "#fig=plt.figure()\n",
    "mpt.msed_plots(pp,tcd1,qcd2,zcd1) \n"
   ]
  }
 ],
 "metadata": {
  "kernelspec": {
   "display_name": "Python 3",
   "language": "python",
   "name": "python3"
  },
  "language_info": {
   "codemirror_mode": {
    "name": "ipython",
    "version": 3
   },
   "file_extension": ".py",
   "mimetype": "text/x-python",
   "name": "python",
   "nbconvert_exporter": "python",
   "pygments_lexer": "ipython3",
   "version": "3.6.5"
  }
 },
 "nbformat": 4,
 "nbformat_minor": 2
}
