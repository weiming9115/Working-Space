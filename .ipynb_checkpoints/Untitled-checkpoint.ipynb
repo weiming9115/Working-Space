{
 "cells": [
  {
   "cell_type": "code",
   "execution_count": 76,
   "metadata": {},
   "outputs": [
    {
     "name": "stdout",
     "output_type": "stream",
     "text": [
      "Requirement already up-to-date: drilsdown in /Users/willytsai/anaconda2/lib/python2.7/site-packages (2.4.8)\n",
      "Requirement not upgraded as not directly required: future in /Users/willytsai/anaconda2/lib/python2.7/site-packages (from drilsdown) (0.16.0)\n",
      "Requirement not upgraded as not directly required: six in /Users/willytsai/anaconda2/lib/python2.7/site-packages (from drilsdown) (1.11.0)\n",
      "Requirement not upgraded as not directly required: ipython_IDV>=2.4.8' in /Users/willytsai/anaconda2/lib/python2.7/site-packages (from drilsdown) (2.4.8)\n",
      "Requirement not upgraded as not directly required: jython-kernel in /Users/willytsai/anaconda2/lib/python2.7/site-packages (from drilsdown) (2.4.3)\n",
      "Requirement not upgraded as not directly required: ramadda_publish in /Users/willytsai/anaconda2/lib/python2.7/site-packages (from drilsdown) (1.3)\n",
      "Requirement not upgraded as not directly required: idv_teleport in /Users/willytsai/anaconda2/lib/python2.7/site-packages (from drilsdown) (1.6)\n",
      "Requirement not upgraded as not directly required: ipykernel in /Users/willytsai/anaconda2/lib/python2.7/site-packages (from drilsdown) (4.8.2)\n",
      "Requirement not upgraded as not directly required: jupyter-client in /Users/willytsai/anaconda2/lib/python2.7/site-packages (from drilsdown) (5.2.3)\n",
      "Requirement not upgraded as not directly required: ipywidgets>=7.1.0rc in /Users/willytsai/anaconda2/lib/python2.7/site-packages (from drilsdown) (7.2.1)\n",
      "Requirement not upgraded as not directly required: pyviz in /Users/willytsai/anaconda2/lib/python2.7/site-packages (from drilsdown) (0.9.1)\n",
      "Requirement not upgraded as not directly required: xarray in /Users/willytsai/anaconda2/lib/python2.7/site-packages (from drilsdown) (0.10.7)\n",
      "Requirement not upgraded as not directly required: holoviews in /Users/willytsai/anaconda2/lib/python2.7/site-packages (from drilsdown) (1.10.6)\n",
      "Requirement not upgraded as not directly required: cartopy in /Users/willytsai/anaconda2/lib/python2.7/site-packages (from drilsdown) (0.16.0)\n",
      "Requirement not upgraded as not directly required: geoviews in /Users/willytsai/anaconda2/lib/python2.7/site-packages (from drilsdown) (1.5.1)\n",
      "Requirement not upgraded as not directly required: MetPy in /Users/willytsai/anaconda2/lib/python2.7/site-packages (from drilsdown) (0.8.0)\n",
      "Requirement not upgraded as not directly required: ipython in /Users/willytsai/anaconda2/lib/python2.7/site-packages (from ipython_IDV>=2.4.8'->drilsdown) (5.7.0)\n",
      "Requirement not upgraded as not directly required: traitlets>=4.1.0 in /Users/willytsai/anaconda2/lib/python2.7/site-packages (from ipykernel->drilsdown) (4.3.2)\n",
      "Requirement not upgraded as not directly required: tornado>=4.0 in /Users/willytsai/anaconda2/lib/python2.7/site-packages (from ipykernel->drilsdown) (5.0.2)\n",
      "Requirement not upgraded as not directly required: jupyter_core in /Users/willytsai/anaconda2/lib/python2.7/site-packages (from jupyter-client->drilsdown) (4.4.0)\n",
      "Requirement not upgraded as not directly required: pyzmq>=13 in /Users/willytsai/anaconda2/lib/python2.7/site-packages (from jupyter-client->drilsdown) (17.0.0)\n",
      "Requirement not upgraded as not directly required: python-dateutil>=2.1 in /Users/willytsai/anaconda2/lib/python2.7/site-packages (from jupyter-client->drilsdown) (2.7.3)\n",
      "Requirement not upgraded as not directly required: nbformat>=4.2.0 in /Users/willytsai/anaconda2/lib/python2.7/site-packages (from ipywidgets>=7.1.0rc->drilsdown) (4.4.0)\n",
      "Requirement not upgraded as not directly required: widgetsnbextension~=3.2.0 in /Users/willytsai/anaconda2/lib/python2.7/site-packages (from ipywidgets>=7.1.0rc->drilsdown) (3.2.1)\n",
      "Requirement not upgraded as not directly required: numpy>=1.11 in /Users/willytsai/anaconda2/lib/python2.7/site-packages (from xarray->drilsdown) (1.14.3)\n",
      "Requirement not upgraded as not directly required: pandas>=0.18.0 in /Users/willytsai/anaconda2/lib/python2.7/site-packages (from xarray->drilsdown) (0.23.0)\n",
      "Requirement not upgraded as not directly required: param<2.0,>=1.6.1 in /Users/willytsai/anaconda2/lib/python2.7/site-packages (from holoviews->drilsdown) (1.7.0)\n",
      "Requirement not upgraded as not directly required: pyviz-comms in /Users/willytsai/anaconda2/lib/python2.7/site-packages (from holoviews->drilsdown) (0.1.1)\n",
      "Requirement not upgraded as not directly required: setuptools>=0.7.2 in /Users/willytsai/anaconda2/lib/python2.7/site-packages (from cartopy->drilsdown) (39.1.0)\n",
      "Requirement not upgraded as not directly required: pyshp>=1.1.4 in /Users/willytsai/anaconda2/lib/python2.7/site-packages (from cartopy->drilsdown) (1.2.12)\n",
      "Requirement not upgraded as not directly required: shapely>=1.5.6 in /Users/willytsai/anaconda2/lib/python2.7/site-packages (from cartopy->drilsdown) (1.6.4.post1)\n",
      "Requirement not upgraded as not directly required: bokeh>=0.12.15 in /Users/willytsai/anaconda2/lib/python2.7/site-packages (from geoviews->drilsdown) (0.12.16)\n",
      "Requirement not upgraded as not directly required: scipy>=0.14 in /Users/willytsai/anaconda2/lib/python2.7/site-packages (from MetPy->drilsdown) (1.1.0)\n",
      "Requirement not upgraded as not directly required: pint>=0.8 in /Users/willytsai/anaconda2/lib/python2.7/site-packages (from MetPy->drilsdown) (0.8.1)\n",
      "Requirement not upgraded as not directly required: matplotlib>=1.4 in /Users/willytsai/anaconda2/lib/python2.7/site-packages (from MetPy->drilsdown) (2.2.2)\n",
      "Requirement not upgraded as not directly required: enum34; python_version < \"3.4\" in /Users/willytsai/anaconda2/lib/python2.7/site-packages (from MetPy->drilsdown) (1.1.6)\n",
      "Requirement not upgraded as not directly required: prompt-toolkit<2.0.0,>=1.0.4 in /Users/willytsai/anaconda2/lib/python2.7/site-packages (from ipython->ipython_IDV>=2.4.8'->drilsdown) (1.0.15)\n",
      "Requirement not upgraded as not directly required: decorator in /Users/willytsai/anaconda2/lib/python2.7/site-packages (from ipython->ipython_IDV>=2.4.8'->drilsdown) (4.3.0)\n",
      "Requirement not upgraded as not directly required: backports.shutil-get-terminal-size; python_version == \"2.7\" in /Users/willytsai/anaconda2/lib/python2.7/site-packages (from ipython->ipython_IDV>=2.4.8'->drilsdown) (1.0.0)\n",
      "Requirement not upgraded as not directly required: appnope; sys_platform == \"darwin\" in /Users/willytsai/anaconda2/lib/python2.7/site-packages (from ipython->ipython_IDV>=2.4.8'->drilsdown) (0.1.0)\n",
      "Requirement not upgraded as not directly required: pexpect; sys_platform != \"win32\" in /Users/willytsai/anaconda2/lib/python2.7/site-packages (from ipython->ipython_IDV>=2.4.8'->drilsdown) (4.5.0)\n",
      "Requirement not upgraded as not directly required: pathlib2; python_version == \"2.7\" or python_version == \"3.3\" in /Users/willytsai/anaconda2/lib/python2.7/site-packages (from ipython->ipython_IDV>=2.4.8'->drilsdown) (2.3.2)\n",
      "Requirement not upgraded as not directly required: pygments in /Users/willytsai/anaconda2/lib/python2.7/site-packages (from ipython->ipython_IDV>=2.4.8'->drilsdown) (2.2.0)\n",
      "Requirement not upgraded as not directly required: simplegeneric>0.8 in /Users/willytsai/anaconda2/lib/python2.7/site-packages (from ipython->ipython_IDV>=2.4.8'->drilsdown) (0.8.1)\n",
      "Requirement not upgraded as not directly required: pickleshare in /Users/willytsai/anaconda2/lib/python2.7/site-packages (from ipython->ipython_IDV>=2.4.8'->drilsdown) (0.7.4)\n",
      "Requirement not upgraded as not directly required: ipython_genutils in /Users/willytsai/anaconda2/lib/python2.7/site-packages (from traitlets>=4.1.0->ipykernel->drilsdown) (0.2.0)\n",
      "Requirement not upgraded as not directly required: futures in /Users/willytsai/anaconda2/lib/python2.7/site-packages (from tornado>=4.0->ipykernel->drilsdown) (3.2.0)\n",
      "Requirement not upgraded as not directly required: singledispatch in /Users/willytsai/anaconda2/lib/python2.7/site-packages (from tornado>=4.0->ipykernel->drilsdown) (3.4.0.3)\n",
      "Requirement not upgraded as not directly required: backports_abc>=0.4 in /Users/willytsai/anaconda2/lib/python2.7/site-packages (from tornado>=4.0->ipykernel->drilsdown) (0.5)\n",
      "Requirement not upgraded as not directly required: jsonschema!=2.5.0,>=2.4 in /Users/willytsai/anaconda2/lib/python2.7/site-packages (from nbformat>=4.2.0->ipywidgets>=7.1.0rc->drilsdown) (2.6.0)\n",
      "Requirement not upgraded as not directly required: notebook>=4.4.1 in /Users/willytsai/anaconda2/lib/python2.7/site-packages (from widgetsnbextension~=3.2.0->ipywidgets>=7.1.0rc->drilsdown) (5.5.0)\n"
     ]
    },
    {
     "name": "stdout",
     "output_type": "stream",
     "text": [
      "Requirement not upgraded as not directly required: pytz>=2011k in /Users/willytsai/anaconda2/lib/python2.7/site-packages (from pandas>=0.18.0->xarray->drilsdown) (2018.4)\n",
      "Requirement not upgraded as not directly required: PyYAML>=3.10 in /Users/willytsai/anaconda2/lib/python2.7/site-packages (from bokeh>=0.12.15->geoviews->drilsdown) (3.12)\n",
      "Requirement not upgraded as not directly required: Jinja2>=2.7 in /Users/willytsai/anaconda2/lib/python2.7/site-packages (from bokeh>=0.12.15->geoviews->drilsdown) (2.10)\n",
      "Requirement not upgraded as not directly required: packaging>=16.8 in /Users/willytsai/anaconda2/lib/python2.7/site-packages (from bokeh>=0.12.15->geoviews->drilsdown) (17.1)\n",
      "Requirement not upgraded as not directly required: cycler>=0.10 in /Users/willytsai/anaconda2/lib/python2.7/site-packages (from matplotlib>=1.4->MetPy->drilsdown) (0.10.0)\n",
      "Requirement not upgraded as not directly required: pyparsing!=2.0.4,!=2.1.2,!=2.1.6,>=2.0.1 in /Users/willytsai/anaconda2/lib/python2.7/site-packages (from matplotlib>=1.4->MetPy->drilsdown) (2.2.0)\n",
      "Requirement not upgraded as not directly required: kiwisolver>=1.0.1 in /Users/willytsai/anaconda2/lib/python2.7/site-packages (from matplotlib>=1.4->MetPy->drilsdown) (1.0.1)\n",
      "Requirement not upgraded as not directly required: backports.functools_lru_cache in /Users/willytsai/anaconda2/lib/python2.7/site-packages (from matplotlib>=1.4->MetPy->drilsdown) (1.5)\n",
      "Requirement not upgraded as not directly required: subprocess32 in /Users/willytsai/anaconda2/lib/python2.7/site-packages (from matplotlib>=1.4->MetPy->drilsdown) (3.5.0)\n",
      "Requirement not upgraded as not directly required: wcwidth in /Users/willytsai/anaconda2/lib/python2.7/site-packages (from prompt-toolkit<2.0.0,>=1.0.4->ipython->ipython_IDV>=2.4.8'->drilsdown) (0.1.7)\n",
      "Requirement not upgraded as not directly required: ptyprocess>=0.5 in /Users/willytsai/anaconda2/lib/python2.7/site-packages (from pexpect; sys_platform != \"win32\"->ipython->ipython_IDV>=2.4.8'->drilsdown) (0.5.2)\n",
      "Requirement not upgraded as not directly required: scandir in /Users/willytsai/anaconda2/lib/python2.7/site-packages (from pathlib2; python_version == \"2.7\" or python_version == \"3.3\"->ipython->ipython_IDV>=2.4.8'->drilsdown) (1.7)\n",
      "Requirement not upgraded as not directly required: functools32 in /Users/willytsai/anaconda2/lib/python2.7/site-packages (from jsonschema!=2.5.0,>=2.4->nbformat>=4.2.0->ipywidgets>=7.1.0rc->drilsdown) (3.2.3.post2)\n",
      "Requirement not upgraded as not directly required: Send2Trash in /Users/willytsai/anaconda2/lib/python2.7/site-packages (from notebook>=4.4.1->widgetsnbextension~=3.2.0->ipywidgets>=7.1.0rc->drilsdown) (1.5.0)\n",
      "Requirement not upgraded as not directly required: nbconvert in /Users/willytsai/anaconda2/lib/python2.7/site-packages (from notebook>=4.4.1->widgetsnbextension~=3.2.0->ipywidgets>=7.1.0rc->drilsdown) (5.3.1)\n",
      "Requirement not upgraded as not directly required: terminado>=0.8.1 in /Users/willytsai/anaconda2/lib/python2.7/site-packages (from notebook>=4.4.1->widgetsnbextension~=3.2.0->ipywidgets>=7.1.0rc->drilsdown) (0.8.1)\n",
      "Requirement not upgraded as not directly required: MarkupSafe>=0.23 in /Users/willytsai/anaconda2/lib/python2.7/site-packages (from Jinja2>=2.7->bokeh>=0.12.15->geoviews->drilsdown) (1.0)\n",
      "Requirement not upgraded as not directly required: mistune>=0.7.4 in /Users/willytsai/anaconda2/lib/python2.7/site-packages (from nbconvert->notebook>=4.4.1->widgetsnbextension~=3.2.0->ipywidgets>=7.1.0rc->drilsdown) (0.8.3)\n",
      "Requirement not upgraded as not directly required: entrypoints>=0.2.2 in /Users/willytsai/anaconda2/lib/python2.7/site-packages (from nbconvert->notebook>=4.4.1->widgetsnbextension~=3.2.0->ipywidgets>=7.1.0rc->drilsdown) (0.2.3)\n",
      "Requirement not upgraded as not directly required: bleach in /Users/willytsai/anaconda2/lib/python2.7/site-packages (from nbconvert->notebook>=4.4.1->widgetsnbextension~=3.2.0->ipywidgets>=7.1.0rc->drilsdown) (2.1.3)\n",
      "Requirement not upgraded as not directly required: pandocfilters>=1.4.1 in /Users/willytsai/anaconda2/lib/python2.7/site-packages (from nbconvert->notebook>=4.4.1->widgetsnbextension~=3.2.0->ipywidgets>=7.1.0rc->drilsdown) (1.4.2)\n",
      "Requirement not upgraded as not directly required: testpath in /Users/willytsai/anaconda2/lib/python2.7/site-packages (from nbconvert->notebook>=4.4.1->widgetsnbextension~=3.2.0->ipywidgets>=7.1.0rc->drilsdown) (0.3.1)\n",
      "Requirement not upgraded as not directly required: html5lib!=1.0b1,!=1.0b2,!=1.0b3,!=1.0b4,!=1.0b5,!=1.0b6,!=1.0b7,!=1.0b8,>=0.99999999pre in /Users/willytsai/anaconda2/lib/python2.7/site-packages (from bleach->nbconvert->notebook>=4.4.1->widgetsnbextension~=3.2.0->ipywidgets>=7.1.0rc->drilsdown) (1.0.1)\n",
      "Requirement not upgraded as not directly required: webencodings in /Users/willytsai/anaconda2/lib/python2.7/site-packages (from html5lib!=1.0b1,!=1.0b2,!=1.0b3,!=1.0b4,!=1.0b5,!=1.0b6,!=1.0b7,!=1.0b8,>=0.99999999pre->bleach->nbconvert->notebook>=4.4.1->widgetsnbextension~=3.2.0->ipywidgets>=7.1.0rc->drilsdown) (0.5.1)\n"
     ]
    }
   ],
   "source": [
    "import sys\n",
    "!{sys.executable} -m pip install drilsdown --upgrade   ### install or upgrade pip package"
   ]
  },
  {
   "cell_type": "code",
   "execution_count": 105,
   "metadata": {
    "scrolled": true
   },
   "outputs": [
    {
     "data": {
      "application/vnd.jupyter.widget-view+json": {
       "model_id": "023a044c7f354565b108c10bd20ee44a",
       "version_major": 2,
       "version_minor": 0
      },
      "text/plain": [
       "VkJveChjaGlsZHJlbj0oSFRNTCh2YWx1ZT11JzxoMz5pcHl0aG9uX0lEViBDb250cm9sIFBhbmVsPC9oMz4nKSwgSEJveChjaGlsZHJlbj0oSFRNTCh2YWx1ZT11JzxiPlJlc291cmNlczo8L2LigKY=\n"
      ]
     },
     "metadata": {},
     "output_type": "display_data"
    }
   ],
   "source": [
    "%reload_ext ipython_IDV\n",
    "%run_idv"
   ]
  },
  {
   "cell_type": "code",
   "execution_count": 107,
   "metadata": {},
   "outputs": [
    {
     "data": {
      "image/png": "[encoded data removed]",
      "text/plain": [
       "<IPython.core.display.Image object>"
      ]
     },
     "metadata": {},
     "output_type": "display_data"
    }
   ],
   "source": [
    "%make_image -display skewT "
   ]
  },
  {
   "cell_type": "code",
   "execution_count": 112,
   "metadata": {},
   "outputs": [
    {
     "name": "stdout",
     "output_type": "stream",
     "text": [
      "<isl><export file=\"test\" what=\"csv\" display=\"skewT\"/></isl>\n"
     ]
    },
    {
     "data": {
      "text/plain": []
     },
     "execution_count": 112,
     "metadata": {},
     "output_type": "execute_result"
    }
   ],
   "source": [
    "from ipython_IDV import Idv\n",
    "#data1 = Idv.export_data(filename='test',display_id='skewT',load_data=False, suffix='csv')\n",
    "isl = '<isl><export file=\"test\" what=\"csv\" display=\"skewT\"/></isl>'\n",
    "print isl\n",
    "Idv.run_isl(isl)\n",
    "\n",
    "\n",
    "#Z=data1.variables['Z']\n",
    "#data2 = Idv.export_data(display_id='windspeed')\n",
    "#windspeed=data2.variables['WindSpeed']\n",
    "#print(windspeed)\n",
    "#print (Z)"
   ]
  },
  {
   "cell_type": "code",
   "execution_count": 113,
   "metadata": {},
   "outputs": [
    {
     "name": "stdout",
     "output_type": "stream",
     "text": [
      "Variable      Type        Data/Info\n",
      "-----------------------------------\n",
      "Idv           classobj    ipython_IDV.Idv\n",
      "data1         NoneType    None\n",
      "ipython_IDV   module      <module 'ipython_IDV' fro<...>ackages/ipython_IDV.pyc'>\n",
      "isl           str         <isl><export file=\"test\" <...>\" display=\"skewT\"/></isl>\n",
      "sys           module      <module 'sys' (built-in)>\n",
      "xarray        module      <module 'xarray' from '/U<...>ges/xarray/__init__.pyc'>\n"
     ]
    }
   ],
   "source": [
    "whos"
   ]
  },
  {
   "cell_type": "code",
   "execution_count": 114,
   "metadata": {},
   "outputs": [
    {
     "name": "stdout",
     "output_type": "stream",
     "text": [
      "Drillsdown_example.ipynb\r\n",
      "EOF_analysis.ipynb\r\n",
      "JupyIDV_Extremes_CaseStudy_Template.ipynb\r\n",
      "Morakot_Aug2009_accurain.png\r\n",
      "NASANEWS_teleport.py\r\n",
      "README.md\r\n",
      "\u001b[1m\u001b[34mSounding_profile\u001b[m\u001b[m\r\n",
      "Untitled.ipynb\r\n",
      "example.py\r\n",
      "idv.xidv\r\n"
     ]
    }
   ],
   "source": [
    "!ls"
   ]
  },
  {
   "cell_type": "code",
   "execution_count": null,
   "metadata": {},
   "outputs": [],
   "source": []
  }
 ],
 "metadata": {
  "kernelspec": {
   "display_name": "Python 2",
   "language": "python",
   "name": "python2"
  },
  "language_info": {
   "codemirror_mode": {
    "name": "ipython",
    "version": 2
   },
   "file_extension": ".py",
   "mimetype": "text/x-python",
   "name": "python",
   "nbconvert_exporter": "python",
   "pygments_lexer": "ipython2",
   "version": "2.7.15"
  }
 },
 "nbformat": 4,
 "nbformat_minor": 2
}
